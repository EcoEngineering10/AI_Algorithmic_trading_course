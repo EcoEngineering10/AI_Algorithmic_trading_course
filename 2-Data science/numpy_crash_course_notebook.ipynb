{
 "cells": [
  {
   "cell_type": "code",
   "execution_count": 1,
   "id": "b31cd6b4",
   "metadata": {},
   "outputs": [],
   "source": [
    "import numpy as np"
   ]
  },
  {
   "cell_type": "code",
   "execution_count": 2,
   "id": "d1892d00",
   "metadata": {},
   "outputs": [],
   "source": [
    "my_list=[1,2,3]"
   ]
  },
  {
   "cell_type": "code",
   "execution_count": 3,
   "id": "494a27bc",
   "metadata": {},
   "outputs": [
    {
     "data": {
      "text/plain": [
       "[1, 2, 3]"
      ]
     },
     "execution_count": 3,
     "metadata": {},
     "output_type": "execute_result"
    }
   ],
   "source": [
    "my_list"
   ]
  },
  {
   "cell_type": "code",
   "execution_count": 4,
   "id": "d7ac49c7",
   "metadata": {},
   "outputs": [
    {
     "data": {
      "text/plain": [
       "array([1, 2, 3])"
      ]
     },
     "execution_count": 4,
     "metadata": {},
     "output_type": "execute_result"
    }
   ],
   "source": [
    "np.array(my_list)"
   ]
  },
  {
   "cell_type": "code",
   "execution_count": 5,
   "id": "5330ee7b",
   "metadata": {},
   "outputs": [],
   "source": [
    "my_matrix=[[1,2,3],[4,5,6],[7,8,9]]"
   ]
  },
  {
   "cell_type": "code",
   "execution_count": 6,
   "id": "860a7b48",
   "metadata": {},
   "outputs": [
    {
     "data": {
      "text/plain": [
       "[[1, 2, 3], [4, 5, 6], [7, 8, 9]]"
      ]
     },
     "execution_count": 6,
     "metadata": {},
     "output_type": "execute_result"
    }
   ],
   "source": [
    "my_matrix"
   ]
  },
  {
   "cell_type": "code",
   "execution_count": 7,
   "id": "df3374ee",
   "metadata": {},
   "outputs": [
    {
     "data": {
      "text/plain": [
       "array([[1, 2, 3],\n",
       "       [4, 5, 6],\n",
       "       [7, 8, 9]])"
      ]
     },
     "execution_count": 7,
     "metadata": {},
     "output_type": "execute_result"
    }
   ],
   "source": [
    "np.array(my_matrix)"
   ]
  },
  {
   "cell_type": "code",
   "execution_count": 8,
   "id": "efed0287",
   "metadata": {},
   "outputs": [
    {
     "data": {
      "text/plain": [
       "array([0, 1, 2, 3, 4, 5, 6, 7, 8, 9])"
      ]
     },
     "execution_count": 8,
     "metadata": {},
     "output_type": "execute_result"
    }
   ],
   "source": [
    "np.arange(0,10)"
   ]
  },
  {
   "cell_type": "code",
   "execution_count": 9,
   "id": "8cfffa51",
   "metadata": {},
   "outputs": [
    {
     "data": {
      "text/plain": [
       "[0, 1, 2, 3, 4]"
      ]
     },
     "execution_count": 9,
     "metadata": {},
     "output_type": "execute_result"
    }
   ],
   "source": [
    "list(range(0,5))"
   ]
  },
  {
   "cell_type": "code",
   "execution_count": 10,
   "id": "44af6552",
   "metadata": {},
   "outputs": [
    {
     "data": {
      "text/plain": [
       "array([10, 15, 20, 25, 30, 35, 40, 45, 50])"
      ]
     },
     "execution_count": 10,
     "metadata": {},
     "output_type": "execute_result"
    }
   ],
   "source": [
    "np.arange(10,51,5)"
   ]
  },
  {
   "cell_type": "code",
   "execution_count": 11,
   "id": "9ab7cf5f",
   "metadata": {},
   "outputs": [
    {
     "data": {
      "text/plain": [
       "array([ 0., 10., 20.])"
      ]
     },
     "execution_count": 11,
     "metadata": {},
     "output_type": "execute_result"
    }
   ],
   "source": [
    "np.linspace(0,20,3)"
   ]
  },
  {
   "cell_type": "code",
   "execution_count": 12,
   "id": "8f282ac2",
   "metadata": {},
   "outputs": [
    {
     "data": {
      "text/plain": [
       "array([ 0.        ,  1.66666667,  3.33333333,  5.        ,  6.66666667,\n",
       "        8.33333333, 10.        , 11.66666667, 13.33333333, 15.        ])"
      ]
     },
     "execution_count": 12,
     "metadata": {},
     "output_type": "execute_result"
    }
   ],
   "source": [
    "np.linspace(0,15,10)"
   ]
  },
  {
   "cell_type": "code",
   "execution_count": 13,
   "id": "2bb254d0",
   "metadata": {},
   "outputs": [
    {
     "data": {
      "text/plain": [
       "array([[1., 1., 1., 1., 1.],\n",
       "       [1., 1., 1., 1., 1.],\n",
       "       [1., 1., 1., 1., 1.],\n",
       "       [1., 1., 1., 1., 1.],\n",
       "       [1., 1., 1., 1., 1.]])"
      ]
     },
     "execution_count": 13,
     "metadata": {},
     "output_type": "execute_result"
    }
   ],
   "source": [
    "np.ones([5,5])"
   ]
  },
  {
   "cell_type": "code",
   "execution_count": 14,
   "id": "5f132687",
   "metadata": {},
   "outputs": [
    {
     "data": {
      "text/plain": [
       "array([[1., 1., 1., 1., 1., 1., 1., 1.],\n",
       "       [1., 1., 1., 1., 1., 1., 1., 1.],\n",
       "       [1., 1., 1., 1., 1., 1., 1., 1.],\n",
       "       [1., 1., 1., 1., 1., 1., 1., 1.]])"
      ]
     },
     "execution_count": 14,
     "metadata": {},
     "output_type": "execute_result"
    }
   ],
   "source": [
    "np.ones([4,8])"
   ]
  },
  {
   "cell_type": "code",
   "execution_count": 15,
   "id": "7d725b9a",
   "metadata": {},
   "outputs": [
    {
     "data": {
      "text/plain": [
       "array([0., 0., 0., 0.])"
      ]
     },
     "execution_count": 15,
     "metadata": {},
     "output_type": "execute_result"
    }
   ],
   "source": [
    "np.zeros(4)"
   ]
  },
  {
   "cell_type": "code",
   "execution_count": 16,
   "id": "76fedb4c",
   "metadata": {},
   "outputs": [
    {
     "data": {
      "text/plain": [
       "array([[0., 0., 0., 0., 0., 0., 0., 0., 0., 0.],\n",
       "       [0., 0., 0., 0., 0., 0., 0., 0., 0., 0.],\n",
       "       [0., 0., 0., 0., 0., 0., 0., 0., 0., 0.],\n",
       "       [0., 0., 0., 0., 0., 0., 0., 0., 0., 0.],\n",
       "       [0., 0., 0., 0., 0., 0., 0., 0., 0., 0.]])"
      ]
     },
     "execution_count": 16,
     "metadata": {},
     "output_type": "execute_result"
    }
   ],
   "source": [
    "np.zeros([5,10])"
   ]
  },
  {
   "cell_type": "code",
   "execution_count": 17,
   "id": "124f207a",
   "metadata": {},
   "outputs": [
    {
     "data": {
      "text/plain": [
       "array([[1., 0., 0., 0., 0.],\n",
       "       [0., 1., 0., 0., 0.],\n",
       "       [0., 0., 1., 0., 0.],\n",
       "       [0., 0., 0., 1., 0.],\n",
       "       [0., 0., 0., 0., 1.]])"
      ]
     },
     "execution_count": 17,
     "metadata": {},
     "output_type": "execute_result"
    }
   ],
   "source": [
    "np.eye(5)"
   ]
  },
  {
   "cell_type": "code",
   "execution_count": 18,
   "id": "f27ed4eb",
   "metadata": {},
   "outputs": [
    {
     "data": {
      "text/plain": [
       "array([[1., 0., 0., 0., 0., 0., 0., 0., 0., 0.],\n",
       "       [0., 1., 0., 0., 0., 0., 0., 0., 0., 0.],\n",
       "       [0., 0., 1., 0., 0., 0., 0., 0., 0., 0.],\n",
       "       [0., 0., 0., 1., 0., 0., 0., 0., 0., 0.],\n",
       "       [0., 0., 0., 0., 1., 0., 0., 0., 0., 0.],\n",
       "       [0., 0., 0., 0., 0., 1., 0., 0., 0., 0.],\n",
       "       [0., 0., 0., 0., 0., 0., 1., 0., 0., 0.],\n",
       "       [0., 0., 0., 0., 0., 0., 0., 1., 0., 0.],\n",
       "       [0., 0., 0., 0., 0., 0., 0., 0., 1., 0.],\n",
       "       [0., 0., 0., 0., 0., 0., 0., 0., 0., 1.]])"
      ]
     },
     "execution_count": 18,
     "metadata": {},
     "output_type": "execute_result"
    }
   ],
   "source": [
    "np.eye(10)"
   ]
  },
  {
   "cell_type": "markdown",
   "id": "5ff6767c",
   "metadata": {},
   "source": [
    "## Random Generator"
   ]
  },
  {
   "cell_type": "code",
   "execution_count": 19,
   "id": "e0f3a83b",
   "metadata": {},
   "outputs": [
    {
     "data": {
      "text/plain": [
       "array([0.03969715, 0.66462092, 0.11740278, 0.43037787, 0.13559306,\n",
       "       0.91433896, 0.25784149, 0.41340767, 0.56269924, 0.31713129])"
      ]
     },
     "execution_count": 19,
     "metadata": {},
     "output_type": "execute_result"
    }
   ],
   "source": [
    "np.random.random(10)"
   ]
  },
  {
   "cell_type": "code",
   "execution_count": 20,
   "id": "7c07dafd",
   "metadata": {},
   "outputs": [
    {
     "data": {
      "text/plain": [
       "array([[0.6970178 , 0.19789068, 0.28210779],\n",
       "       [0.58981975, 0.49290958, 0.10091161]])"
      ]
     },
     "execution_count": 20,
     "metadata": {},
     "output_type": "execute_result"
    }
   ],
   "source": [
    "np.random.random([2,3])"
   ]
  },
  {
   "cell_type": "code",
   "execution_count": 21,
   "id": "33c8fd73",
   "metadata": {},
   "outputs": [
    {
     "data": {
      "text/plain": [
       "9"
      ]
     },
     "execution_count": 21,
     "metadata": {},
     "output_type": "execute_result"
    }
   ],
   "source": [
    "np.random.randint(0,10)"
   ]
  },
  {
   "cell_type": "code",
   "execution_count": 22,
   "id": "6d233ab3",
   "metadata": {},
   "outputs": [],
   "source": [
    "np.random.seed(42)\n",
    "\n",
    "arr1=np.random.randint(5,100,(4,6))"
   ]
  },
  {
   "cell_type": "code",
   "execution_count": 23,
   "id": "abdc0f9b",
   "metadata": {},
   "outputs": [
    {
     "data": {
      "text/plain": [
       "array([[56, 97, 19, 76, 65, 25],\n",
       "       [87, 91, 79, 79, 92, 28],\n",
       "       [ 7, 26, 57,  6, 92, 34],\n",
       "       [42,  6, 68, 64, 25, 37]])"
      ]
     },
     "execution_count": 23,
     "metadata": {},
     "output_type": "execute_result"
    }
   ],
   "source": [
    "arr1"
   ]
  },
  {
   "cell_type": "code",
   "execution_count": 24,
   "id": "fe7bb423",
   "metadata": {},
   "outputs": [
    {
     "data": {
      "text/plain": [
       "array([[56, 97, 19, 76, 65, 25, 87, 91, 79, 79, 92, 28],\n",
       "       [ 7, 26, 57,  6, 92, 34, 42,  6, 68, 64, 25, 37]])"
      ]
     },
     "execution_count": 24,
     "metadata": {},
     "output_type": "execute_result"
    }
   ],
   "source": [
    "arr1.reshape(2,12)"
   ]
  },
  {
   "cell_type": "code",
   "execution_count": 25,
   "id": "37ec0b3e",
   "metadata": {},
   "outputs": [
    {
     "data": {
      "text/plain": [
       "array([[56, 97, 19, 76, 65, 25, 87, 91],\n",
       "       [79, 79, 92, 28,  7, 26, 57,  6],\n",
       "       [92, 34, 42,  6, 68, 64, 25, 37]])"
      ]
     },
     "execution_count": 25,
     "metadata": {},
     "output_type": "execute_result"
    }
   ],
   "source": [
    "arr1_reshape=arr1.reshape(3,8)\n",
    "arr1_reshape"
   ]
  },
  {
   "cell_type": "code",
   "execution_count": 26,
   "id": "c721283e",
   "metadata": {},
   "outputs": [
    {
     "data": {
      "text/plain": [
       "(4, 6)"
      ]
     },
     "execution_count": 26,
     "metadata": {},
     "output_type": "execute_result"
    }
   ],
   "source": [
    "arr1.shape"
   ]
  },
  {
   "cell_type": "code",
   "execution_count": 27,
   "id": "570d9ba0",
   "metadata": {},
   "outputs": [
    {
     "data": {
      "text/plain": [
       "dtype('int32')"
      ]
     },
     "execution_count": 27,
     "metadata": {},
     "output_type": "execute_result"
    }
   ],
   "source": [
    "arr1.dtype"
   ]
  },
  {
   "cell_type": "code",
   "execution_count": 28,
   "id": "38ee77e8",
   "metadata": {},
   "outputs": [
    {
     "data": {
      "text/plain": [
       "array([[0.30424224, 0.52475643, 0.43194502],\n",
       "       [0.29122914, 0.61185289, 0.13949386]])"
      ]
     },
     "execution_count": 28,
     "metadata": {},
     "output_type": "execute_result"
    }
   ],
   "source": [
    "arr2=np.random.random([2,3])\n",
    "arr2"
   ]
  },
  {
   "cell_type": "code",
   "execution_count": 29,
   "id": "80beff49",
   "metadata": {},
   "outputs": [
    {
     "data": {
      "text/plain": [
       "dtype('float64')"
      ]
     },
     "execution_count": 29,
     "metadata": {},
     "output_type": "execute_result"
    }
   ],
   "source": [
    "arr2.dtype"
   ]
  },
  {
   "cell_type": "code",
   "execution_count": 30,
   "id": "d993696f",
   "metadata": {},
   "outputs": [
    {
     "data": {
      "text/plain": [
       "array([[56, 97, 19, 76, 65, 25],\n",
       "       [87, 91, 79, 79, 92, 28],\n",
       "       [ 7, 26, 57,  6, 92, 34],\n",
       "       [42,  6, 68, 64, 25, 37]])"
      ]
     },
     "execution_count": 30,
     "metadata": {},
     "output_type": "execute_result"
    }
   ],
   "source": [
    "arr1"
   ]
  },
  {
   "cell_type": "code",
   "execution_count": 31,
   "id": "22413429",
   "metadata": {},
   "outputs": [
    {
     "data": {
      "text/plain": [
       "97"
      ]
     },
     "execution_count": 31,
     "metadata": {},
     "output_type": "execute_result"
    }
   ],
   "source": [
    "arr1.max()"
   ]
  },
  {
   "cell_type": "code",
   "execution_count": 32,
   "id": "2d841eda",
   "metadata": {},
   "outputs": [
    {
     "data": {
      "text/plain": [
       "1"
      ]
     },
     "execution_count": 32,
     "metadata": {},
     "output_type": "execute_result"
    }
   ],
   "source": [
    "arr1.argmax()"
   ]
  },
  {
   "cell_type": "code",
   "execution_count": 33,
   "id": "94a15951",
   "metadata": {},
   "outputs": [
    {
     "data": {
      "text/plain": [
       "6"
      ]
     },
     "execution_count": 33,
     "metadata": {},
     "output_type": "execute_result"
    }
   ],
   "source": [
    "arr1.min()"
   ]
  },
  {
   "cell_type": "code",
   "execution_count": 34,
   "id": "b52175cb",
   "metadata": {},
   "outputs": [
    {
     "data": {
      "text/plain": [
       "15"
      ]
     },
     "execution_count": 34,
     "metadata": {},
     "output_type": "execute_result"
    }
   ],
   "source": [
    "arr1.argmin()"
   ]
  },
  {
   "cell_type": "markdown",
   "id": "902af170",
   "metadata": {},
   "source": [
    "## Numpy Operators"
   ]
  },
  {
   "cell_type": "code",
   "execution_count": 35,
   "id": "6b8f1be3",
   "metadata": {},
   "outputs": [],
   "source": [
    "arr=np.arange(0,15)"
   ]
  },
  {
   "cell_type": "code",
   "execution_count": 36,
   "id": "fd9a2045",
   "metadata": {},
   "outputs": [
    {
     "data": {
      "text/plain": [
       "array([ 0,  1,  2,  3,  4,  5,  6,  7,  8,  9, 10, 11, 12, 13, 14])"
      ]
     },
     "execution_count": 36,
     "metadata": {},
     "output_type": "execute_result"
    }
   ],
   "source": [
    "arr"
   ]
  },
  {
   "cell_type": "code",
   "execution_count": 37,
   "id": "13b1d73e",
   "metadata": {},
   "outputs": [
    {
     "data": {
      "text/plain": [
       "array([ 0,  2,  4,  6,  8, 10, 12, 14, 16, 18, 20, 22, 24, 26, 28])"
      ]
     },
     "execution_count": 37,
     "metadata": {},
     "output_type": "execute_result"
    }
   ],
   "source": [
    "arr+arr"
   ]
  },
  {
   "cell_type": "code",
   "execution_count": 38,
   "id": "07d5242e",
   "metadata": {},
   "outputs": [
    {
     "data": {
      "text/plain": [
       "array([0, 0, 0, 0, 0, 0, 0, 0, 0, 0, 0, 0, 0, 0, 0])"
      ]
     },
     "execution_count": 38,
     "metadata": {},
     "output_type": "execute_result"
    }
   ],
   "source": [
    "arr-arr"
   ]
  },
  {
   "cell_type": "code",
   "execution_count": 39,
   "id": "64345a1b",
   "metadata": {},
   "outputs": [
    {
     "data": {
      "text/plain": [
       "array([  0,   1,   4,   9,  16,  25,  36,  49,  64,  81, 100, 121, 144,\n",
       "       169, 196])"
      ]
     },
     "execution_count": 39,
     "metadata": {},
     "output_type": "execute_result"
    }
   ],
   "source": [
    "arr*arr"
   ]
  },
  {
   "cell_type": "code",
   "execution_count": 40,
   "id": "642eefab",
   "metadata": {},
   "outputs": [
    {
     "data": {
      "text/plain": [
       "array([  0,   1,   4,   9,  16,  25,  36,  49,  64,  81, 100, 121, 144,\n",
       "       169, 196])"
      ]
     },
     "execution_count": 40,
     "metadata": {},
     "output_type": "execute_result"
    }
   ],
   "source": [
    "np.square(arr)"
   ]
  },
  {
   "cell_type": "code",
   "execution_count": 41,
   "id": "41c2a593",
   "metadata": {},
   "outputs": [
    {
     "name": "stderr",
     "output_type": "stream",
     "text": [
      "C:\\Users\\Leilypour\\AppData\\Local\\Temp\\ipykernel_25136\\1862401812.py:1: RuntimeWarning: invalid value encountered in divide\n",
      "  arr/arr\n"
     ]
    },
    {
     "data": {
      "text/plain": [
       "array([nan,  1.,  1.,  1.,  1.,  1.,  1.,  1.,  1.,  1.,  1.,  1.,  1.,\n",
       "        1.,  1.])"
      ]
     },
     "execution_count": 41,
     "metadata": {},
     "output_type": "execute_result"
    }
   ],
   "source": [
    "arr/arr"
   ]
  },
  {
   "cell_type": "code",
   "execution_count": 42,
   "id": "3b003be7",
   "metadata": {},
   "outputs": [
    {
     "data": {
      "text/plain": [
       "array([0.        , 1.        , 1.41421356, 1.73205081, 2.        ,\n",
       "       2.23606798, 2.44948974, 2.64575131, 2.82842712, 3.        ,\n",
       "       3.16227766, 3.31662479, 3.46410162, 3.60555128, 3.74165739])"
      ]
     },
     "execution_count": 42,
     "metadata": {},
     "output_type": "execute_result"
    }
   ],
   "source": [
    "np.sqrt(arr)"
   ]
  },
  {
   "cell_type": "code",
   "execution_count": 43,
   "id": "26b51075",
   "metadata": {},
   "outputs": [
    {
     "data": {
      "text/plain": [
       "array([  0,   1,   4,   9,  16,  25,  36,  49,  64,  81, 100, 121, 144,\n",
       "       169, 196])"
      ]
     },
     "execution_count": 43,
     "metadata": {},
     "output_type": "execute_result"
    }
   ],
   "source": [
    "np.square(arr)"
   ]
  },
  {
   "cell_type": "code",
   "execution_count": 78,
   "id": "eee0f6c8",
   "metadata": {},
   "outputs": [
    {
     "data": {
      "text/plain": [
       "array([1.00000000e+00, 2.71828183e+00, 7.38905610e+00, 2.00855369e+01,\n",
       "       5.45981500e+01, 1.48413159e+02, 4.03428793e+02, 1.09663316e+03,\n",
       "       2.98095799e+03, 8.10308393e+03, 2.20264658e+04, 5.98741417e+04,\n",
       "       1.62754791e+05, 4.42413392e+05, 1.20260428e+06])"
      ]
     },
     "execution_count": 78,
     "metadata": {},
     "output_type": "execute_result"
    }
   ],
   "source": [
    "np.exp(arr)"
   ]
  },
  {
   "cell_type": "code",
   "execution_count": 79,
   "id": "d8af2bc7",
   "metadata": {},
   "outputs": [
    {
     "data": {
      "text/plain": [
       "array([ 0,  1,  2,  3,  4,  5,  6,  7,  8,  9, 10, 11, 12, 13, 14])"
      ]
     },
     "execution_count": 79,
     "metadata": {},
     "output_type": "execute_result"
    }
   ],
   "source": [
    "arr"
   ]
  },
  {
   "cell_type": "code",
   "execution_count": 80,
   "id": "d48e846b",
   "metadata": {},
   "outputs": [
    {
     "data": {
      "text/plain": [
       "array([10, 11, 12, 13, 14, 15, 16, 17, 18, 19, 20, 21, 22, 23, 24])"
      ]
     },
     "execution_count": 80,
     "metadata": {},
     "output_type": "execute_result"
    }
   ],
   "source": [
    "arr+10"
   ]
  },
  {
   "cell_type": "code",
   "execution_count": 81,
   "id": "97f56aed",
   "metadata": {},
   "outputs": [
    {
     "data": {
      "text/plain": [
       "array([  0,  20,  40,  60,  80, 100, 120, 140, 160, 180, 200, 220, 240,\n",
       "       260, 280])"
      ]
     },
     "execution_count": 81,
     "metadata": {},
     "output_type": "execute_result"
    }
   ],
   "source": [
    "arr*20"
   ]
  },
  {
   "cell_type": "code",
   "execution_count": 82,
   "id": "8a05a790",
   "metadata": {},
   "outputs": [
    {
     "data": {
      "text/plain": [
       "array([0. , 0.1, 0.2, 0.3, 0.4, 0.5, 0.6, 0.7, 0.8, 0.9, 1. , 1.1, 1.2,\n",
       "       1.3, 1.4])"
      ]
     },
     "execution_count": 82,
     "metadata": {},
     "output_type": "execute_result"
    }
   ],
   "source": [
    "arr/10"
   ]
  },
  {
   "cell_type": "markdown",
   "id": "fd6df20e",
   "metadata": {},
   "source": [
    "## Indexing "
   ]
  },
  {
   "cell_type": "code",
   "execution_count": 83,
   "id": "36739c66",
   "metadata": {},
   "outputs": [
    {
     "data": {
      "text/plain": [
       "array([15, 16, 17, 18, 19, 20, 21, 22, 23, 24, 25, 26, 27, 28, 29])"
      ]
     },
     "execution_count": 83,
     "metadata": {},
     "output_type": "execute_result"
    }
   ],
   "source": [
    "arr5=np.arange(15,30)\n",
    "arr5"
   ]
  },
  {
   "cell_type": "code",
   "execution_count": 84,
   "id": "9baae708",
   "metadata": {},
   "outputs": [
    {
     "data": {
      "text/plain": [
       "15"
      ]
     },
     "execution_count": 84,
     "metadata": {},
     "output_type": "execute_result"
    }
   ],
   "source": [
    "arr5[0]"
   ]
  },
  {
   "cell_type": "code",
   "execution_count": 85,
   "id": "930f4984",
   "metadata": {},
   "outputs": [
    {
     "data": {
      "text/plain": [
       "19"
      ]
     },
     "execution_count": 85,
     "metadata": {},
     "output_type": "execute_result"
    }
   ],
   "source": [
    "arr5[4]"
   ]
  },
  {
   "cell_type": "code",
   "execution_count": 86,
   "id": "0cada64e",
   "metadata": {},
   "outputs": [
    {
     "data": {
      "text/plain": [
       "array([17, 18, 19, 20, 21])"
      ]
     },
     "execution_count": 86,
     "metadata": {},
     "output_type": "execute_result"
    }
   ],
   "source": [
    "arr5[2:7]"
   ]
  },
  {
   "cell_type": "code",
   "execution_count": 87,
   "id": "df1ec0ba",
   "metadata": {},
   "outputs": [
    {
     "data": {
      "text/plain": [
       "array([15, 16, 17, 18, 19, 20, 21])"
      ]
     },
     "execution_count": 87,
     "metadata": {},
     "output_type": "execute_result"
    }
   ],
   "source": [
    "arr5[:7]"
   ]
  },
  {
   "cell_type": "code",
   "execution_count": 88,
   "id": "94f2353b",
   "metadata": {},
   "outputs": [
    {
     "data": {
      "text/plain": [
       "array([22, 23, 24, 25, 26, 27, 28, 29])"
      ]
     },
     "execution_count": 88,
     "metadata": {},
     "output_type": "execute_result"
    }
   ],
   "source": [
    "arr5[7:]"
   ]
  },
  {
   "cell_type": "code",
   "execution_count": 89,
   "id": "7830f809",
   "metadata": {},
   "outputs": [
    {
     "data": {
      "text/plain": [
       "array([[20, 21, 22, 23],\n",
       "       [30, 31, 32, 33],\n",
       "       [40, 41, 42, 43]])"
      ]
     },
     "execution_count": 89,
     "metadata": {},
     "output_type": "execute_result"
    }
   ],
   "source": [
    "arr6=np.array([[20,21,22,23],[30,31,32,33],[40,41,42,43]])\n",
    "arr6"
   ]
  },
  {
   "cell_type": "code",
   "execution_count": 90,
   "id": "5db2ec60",
   "metadata": {},
   "outputs": [
    {
     "data": {
      "text/plain": [
       "22"
      ]
     },
     "execution_count": 90,
     "metadata": {},
     "output_type": "execute_result"
    }
   ],
   "source": [
    "arr6[0,2]"
   ]
  },
  {
   "cell_type": "code",
   "execution_count": 91,
   "id": "04115fcd",
   "metadata": {},
   "outputs": [
    {
     "data": {
      "text/plain": [
       "array([[30, 31, 32, 33],\n",
       "       [40, 41, 42, 43]])"
      ]
     },
     "execution_count": 91,
     "metadata": {},
     "output_type": "execute_result"
    }
   ],
   "source": [
    "arr6[1:]"
   ]
  },
  {
   "cell_type": "code",
   "execution_count": 92,
   "id": "1c20edd2",
   "metadata": {},
   "outputs": [
    {
     "data": {
      "text/plain": [
       "array([[32, 33],\n",
       "       [42, 43]])"
      ]
     },
     "execution_count": 92,
     "metadata": {},
     "output_type": "execute_result"
    }
   ],
   "source": [
    "arr6[1:,2:4]"
   ]
  },
  {
   "cell_type": "code",
   "execution_count": 93,
   "id": "a2f1275e",
   "metadata": {},
   "outputs": [
    {
     "data": {
      "text/plain": [
       "array([[20, 21, 22],\n",
       "       [30, 31, 32]])"
      ]
     },
     "execution_count": 93,
     "metadata": {},
     "output_type": "execute_result"
    }
   ],
   "source": [
    "arr6[:2, :3]"
   ]
  },
  {
   "cell_type": "code",
   "execution_count": 94,
   "id": "32fefa86",
   "metadata": {},
   "outputs": [
    {
     "data": {
      "text/plain": [
       "22"
      ]
     },
     "execution_count": 94,
     "metadata": {},
     "output_type": "execute_result"
    }
   ],
   "source": [
    "arr6[0,2]"
   ]
  },
  {
   "cell_type": "code",
   "execution_count": 95,
   "id": "6850b5e4",
   "metadata": {},
   "outputs": [
    {
     "data": {
      "text/plain": [
       "22"
      ]
     },
     "execution_count": 95,
     "metadata": {},
     "output_type": "execute_result"
    }
   ],
   "source": [
    "arr6[0][2]"
   ]
  },
  {
   "cell_type": "markdown",
   "id": "419107e6",
   "metadata": {},
   "source": [
    "## Numpy Conditional Selection"
   ]
  },
  {
   "cell_type": "code",
   "execution_count": 96,
   "id": "b04f66b2",
   "metadata": {},
   "outputs": [
    {
     "data": {
      "text/plain": [
       "array([[71, 10, 36, 71, 86, 12, 79, 81, 36],\n",
       "       [18, 71, 46, 60, 53, 33, 88, 68, 41],\n",
       "       [97, 61, 71, 67, 61, 21, 48, 11, 12],\n",
       "       [65, 90, 68, 11, 11, 63, 96, 10, 28],\n",
       "       [11, 62, 53, 99, 41, 79, 41, 77, 64],\n",
       "       [84, 65, 26, 47, 33, 78, 79, 95, 20],\n",
       "       [25, 82, 68, 79, 89, 12, 29, 68, 45],\n",
       "       [28, 99, 76, 28, 29, 80, 61, 42, 49]])"
      ]
     },
     "execution_count": 96,
     "metadata": {},
     "output_type": "execute_result"
    }
   ],
   "source": [
    "arr7=np.random.randint(10,100,(8,9))\n",
    "arr7"
   ]
  },
  {
   "cell_type": "code",
   "execution_count": 97,
   "id": "118304f2",
   "metadata": {},
   "outputs": [],
   "source": [
    "bool_arr=arr7>50"
   ]
  },
  {
   "cell_type": "code",
   "execution_count": 98,
   "id": "dcd9e6b5",
   "metadata": {},
   "outputs": [
    {
     "data": {
      "text/plain": [
       "array([71, 71, 86, 79, 81, 71, 60, 53, 88, 68, 97, 61, 71, 67, 61, 65, 90,\n",
       "       68, 63, 96, 62, 53, 99, 79, 77, 64, 84, 65, 78, 79, 95, 82, 68, 79,\n",
       "       89, 68, 99, 76, 80, 61])"
      ]
     },
     "execution_count": 98,
     "metadata": {},
     "output_type": "execute_result"
    }
   ],
   "source": [
    "arr7[bool_arr]"
   ]
  },
  {
   "cell_type": "code",
   "execution_count": 99,
   "id": "71c7df12",
   "metadata": {},
   "outputs": [
    {
     "data": {
      "text/plain": [
       "array([71, 71, 86, 79, 81, 71, 60, 53, 88, 68, 97, 61, 71, 67, 61, 65, 90,\n",
       "       68, 63, 96, 62, 53, 99, 79, 77, 64, 84, 65, 78, 79, 95, 82, 68, 79,\n",
       "       89, 68, 99, 76, 80, 61])"
      ]
     },
     "execution_count": 99,
     "metadata": {},
     "output_type": "execute_result"
    }
   ],
   "source": [
    "arr7[arr7>50]"
   ]
  },
  {
   "cell_type": "code",
   "execution_count": 100,
   "id": "0da629ec",
   "metadata": {},
   "outputs": [
    {
     "data": {
      "text/plain": [
       "array([10, 12, 18, 21, 11, 12, 11, 11, 10, 28, 11, 26, 20, 25, 12, 29, 28,\n",
       "       28, 29])"
      ]
     },
     "execution_count": 100,
     "metadata": {},
     "output_type": "execute_result"
    }
   ],
   "source": [
    "arr7[arr7<30]"
   ]
  },
  {
   "cell_type": "code",
   "execution_count": 101,
   "id": "09702861",
   "metadata": {},
   "outputs": [
    {
     "data": {
      "text/plain": [
       "array([], dtype=int32)"
      ]
     },
     "execution_count": 101,
     "metadata": {},
     "output_type": "execute_result"
    }
   ],
   "source": [
    "arr7[arr7==30]"
   ]
  },
  {
   "cell_type": "code",
   "execution_count": 112,
   "id": "b4d69092",
   "metadata": {},
   "outputs": [
    {
     "data": {
      "text/plain": [
       "array([71, 10, 36, 71, 86, 12, 79, 81, 36, 18, 71, 46, 60, 53, 33, 88, 68,\n",
       "       41, 97, 61, 71, 67, 61, 21, 48, 11, 12, 65, 90, 68, 11, 11, 63, 96,\n",
       "       10, 28, 11, 62, 53, 99, 41, 79, 41, 77, 64, 84, 65, 26, 47, 33, 78,\n",
       "       79, 95, 20, 25, 82, 68, 79, 89, 12, 29, 68, 45, 28, 99, 76, 28, 29,\n",
       "       80, 61, 42, 49])"
      ]
     },
     "execution_count": 112,
     "metadata": {},
     "output_type": "execute_result"
    }
   ],
   "source": [
    "arr7[arr7!=30]"
   ]
  },
  {
   "cell_type": "code",
   "execution_count": 113,
   "id": "52a6223c",
   "metadata": {},
   "outputs": [
    {
     "data": {
      "text/plain": [
       "array([[71, 10, 36, 71, 86, 12, 79, 81, 36],\n",
       "       [18, 71, 46, 60, 53, 33, 88, 68, 41],\n",
       "       [97, 61, 71, 67, 61, 21, 48, 11, 12],\n",
       "       [65, 90, 68, 11, 11, 63, 96, 10, 28],\n",
       "       [11, 62, 53, 99, 41, 79, 41, 77, 64],\n",
       "       [84, 65, 26, 47, 33, 78, 79, 95, 20],\n",
       "       [25, 82, 68, 79, 89, 12, 29, 68, 45],\n",
       "       [28, 99, 76, 28, 29, 80, 61, 42, 49]])"
      ]
     },
     "execution_count": 113,
     "metadata": {},
     "output_type": "execute_result"
    }
   ],
   "source": [
    "arr7"
   ]
  },
  {
   "cell_type": "code",
   "execution_count": 114,
   "id": "c549e9dc",
   "metadata": {},
   "outputs": [
    {
     "data": {
      "text/plain": [
       "54.083333333333336"
      ]
     },
     "execution_count": 114,
     "metadata": {},
     "output_type": "execute_result"
    }
   ],
   "source": [
    "arr7.mean()"
   ]
  },
  {
   "cell_type": "code",
   "execution_count": 115,
   "id": "98e3f477",
   "metadata": {},
   "outputs": [
    {
     "data": {
      "text/plain": [
       "714.4930555555555"
      ]
     },
     "execution_count": 115,
     "metadata": {},
     "output_type": "execute_result"
    }
   ],
   "source": [
    "arr7.var()"
   ]
  },
  {
   "cell_type": "code",
   "execution_count": 116,
   "id": "870917ff",
   "metadata": {},
   "outputs": [
    {
     "data": {
      "text/plain": [
       "26.730002909755836"
      ]
     },
     "execution_count": 116,
     "metadata": {},
     "output_type": "execute_result"
    }
   ],
   "source": [
    "arr7.std()"
   ]
  },
  {
   "cell_type": "markdown",
   "id": "8924daf8",
   "metadata": {},
   "source": [
    "## Sorting"
   ]
  },
  {
   "cell_type": "code",
   "execution_count": 126,
   "id": "7cbddd6e",
   "metadata": {},
   "outputs": [],
   "source": [
    "arr8=np.random.randint(10,1000,100)"
   ]
  },
  {
   "cell_type": "code",
   "execution_count": 127,
   "id": "b0220841",
   "metadata": {},
   "outputs": [
    {
     "data": {
      "text/plain": [
       "array([ 38, 174, 431, 348, 657, 505, 374, 842, 351, 509, 666, 520, 336,\n",
       "       226, 310, 141, 813,  79, 261, 424, 796, 454, 885, 191, 176, 100,\n",
       "       723, 867, 540,  48, 135, 460, 182, 662, 763, 229, 647,  67, 669,\n",
       "       485, 465, 838, 904, 370, 944,  10, 396, 982, 357, 199, 514, 200,\n",
       "       517, 378, 418, 833, 938, 943, 126, 143,  67, 565, 694, 681, 182,\n",
       "       838, 824, 158,  89, 895, 222, 212, 773, 238, 685, 236, 668, 541,\n",
       "       450, 411,  56, 242, 314, 535, 152, 424, 522, 382, 575, 895, 268,\n",
       "       665, 480, 962, 980,  21, 339, 745, 793, 977])"
      ]
     },
     "execution_count": 127,
     "metadata": {},
     "output_type": "execute_result"
    }
   ],
   "source": [
    "arr8"
   ]
  },
  {
   "cell_type": "code",
   "execution_count": 128,
   "id": "0c173a57",
   "metadata": {},
   "outputs": [
    {
     "data": {
      "text/plain": [
       "array([ 10,  21,  38,  48,  56,  67,  67,  79,  89, 100, 126, 135, 141,\n",
       "       143, 152, 158, 174, 176, 182, 182, 191, 199, 200, 212, 222, 226,\n",
       "       229, 236, 238, 242, 261, 268, 310, 314, 336, 339, 348, 351, 357,\n",
       "       370, 374, 378, 382, 396, 411, 418, 424, 424, 431, 450, 454, 460,\n",
       "       465, 480, 485, 505, 509, 514, 517, 520, 522, 535, 540, 541, 565,\n",
       "       575, 647, 657, 662, 665, 666, 668, 669, 681, 685, 694, 723, 745,\n",
       "       763, 773, 793, 796, 813, 824, 833, 838, 838, 842, 867, 885, 895,\n",
       "       895, 904, 938, 943, 944, 962, 977, 980, 982])"
      ]
     },
     "execution_count": 128,
     "metadata": {},
     "output_type": "execute_result"
    }
   ],
   "source": [
    "np.sort(arr8)"
   ]
  },
  {
   "cell_type": "code",
   "execution_count": 129,
   "id": "cbdd4289",
   "metadata": {},
   "outputs": [
    {
     "data": {
      "text/plain": [
       "array([45, 95,  0, 29, 80, 37, 60, 17, 68, 25, 58, 30, 15, 59, 84, 67,  1,\n",
       "       24, 64, 32, 23, 49, 51, 71, 70, 13, 35, 75, 73, 81, 18, 90, 14, 82,\n",
       "       12, 96,  3,  8, 48, 43,  6, 53, 87, 46, 79, 54, 19, 85,  2, 78, 21,\n",
       "       31, 40, 92, 39,  5,  9, 50, 52, 11, 86, 83, 28, 77, 61, 88, 36,  4,\n",
       "       33, 91, 10, 76, 38, 63, 74, 62, 26, 97, 34, 72, 98, 20, 16, 66, 55,\n",
       "       65, 41,  7, 27, 22, 69, 89, 42, 56, 57, 44, 93, 99, 94, 47],\n",
       "      dtype=int64)"
      ]
     },
     "execution_count": 129,
     "metadata": {},
     "output_type": "execute_result"
    }
   ],
   "source": [
    "np.argsort(arr8)"
   ]
  },
  {
   "cell_type": "code",
   "execution_count": 131,
   "id": "d42045db",
   "metadata": {},
   "outputs": [
    {
     "data": {
      "text/plain": [
       "21"
      ]
     },
     "execution_count": 131,
     "metadata": {},
     "output_type": "execute_result"
    }
   ],
   "source": [
    "arr8[95]"
   ]
  },
  {
   "cell_type": "code",
   "execution_count": 132,
   "id": "4a3a0957",
   "metadata": {},
   "outputs": [
    {
     "data": {
      "text/plain": [
       "array([ 10,  21,  38,  48,  56,  67,  67,  79,  89, 100, 126, 135, 141,\n",
       "       143, 152, 158, 174, 176, 182, 182, 191, 199, 200, 212, 222, 226,\n",
       "       229, 236, 238, 242, 261, 268, 310, 314, 336, 339, 348, 351, 357,\n",
       "       370, 374, 378, 382, 396, 411, 418, 424, 424, 431, 450, 454, 460,\n",
       "       465, 480, 485, 505, 509, 514, 517, 520, 522, 535, 540, 541, 565,\n",
       "       575, 647, 657, 662, 665, 666, 668, 669, 681, 685, 694, 723, 745,\n",
       "       763, 773, 793, 796, 813, 824, 833, 838, 838, 842, 867, 885, 895,\n",
       "       895, 904, 938, 943, 944, 962, 977, 980, 982])"
      ]
     },
     "execution_count": 132,
     "metadata": {},
     "output_type": "execute_result"
    }
   ],
   "source": [
    "np.sort(arr8)"
   ]
  },
  {
   "cell_type": "code",
   "execution_count": 133,
   "id": "ad618609",
   "metadata": {},
   "outputs": [
    {
     "data": {
      "text/plain": [
       "array([982, 980, 977, 962, 944, 943, 938, 904, 895, 895, 885, 867, 842,\n",
       "       838, 838, 833, 824, 813, 796, 793, 773, 763, 745, 723, 694, 685,\n",
       "       681, 669, 668, 666, 665, 662, 657, 647, 575, 565, 541, 540, 535,\n",
       "       522, 520, 517, 514, 509, 505, 485, 480, 465, 460, 454, 450, 431,\n",
       "       424, 424, 418, 411, 396, 382, 378, 374, 370, 357, 351, 348, 339,\n",
       "       336, 314, 310, 268, 261, 242, 238, 236, 229, 226, 222, 212, 200,\n",
       "       199, 191, 182, 182, 176, 174, 158, 152, 143, 141, 135, 126, 100,\n",
       "        89,  79,  67,  67,  56,  48,  38,  21,  10])"
      ]
     },
     "execution_count": 133,
     "metadata": {},
     "output_type": "execute_result"
    }
   ],
   "source": [
    "np.sort(arr8)[::-1]"
   ]
  },
  {
   "cell_type": "code",
   "execution_count": 143,
   "id": "af416c44",
   "metadata": {},
   "outputs": [
    {
     "data": {
      "text/plain": [
       "array([47, 94, 99, 93, 44, 57, 56, 42, 89, 69, 22, 27,  7, 41, 65, 55, 66,\n",
       "       16, 20, 98, 72, 34, 97, 26, 62, 74, 63, 38, 76, 10, 91, 33,  4, 36,\n",
       "       88, 61, 77, 28, 83, 86, 11, 52, 50,  9,  5, 39, 92, 40, 31, 21, 78,\n",
       "        2, 85, 19, 54, 79, 46, 87, 53,  6, 43, 48,  8,  3, 96, 12, 82, 14,\n",
       "       90, 18, 81, 73, 75, 35, 13, 70, 71, 51, 49, 23, 32, 64, 24,  1, 67,\n",
       "       84, 59, 15, 30, 58, 25, 68, 17, 60, 37, 80, 29,  0, 95, 45],\n",
       "      dtype=int64)"
      ]
     },
     "execution_count": 143,
     "metadata": {},
     "output_type": "execute_result"
    }
   ],
   "source": [
    "np.argsort(arr8)[::-1]"
   ]
  },
  {
   "cell_type": "code",
   "execution_count": 144,
   "id": "d21f85a5",
   "metadata": {},
   "outputs": [
    {
     "data": {
      "text/plain": [
       "982"
      ]
     },
     "execution_count": 144,
     "metadata": {},
     "output_type": "execute_result"
    }
   ],
   "source": [
    "arr8.max()"
   ]
  },
  {
   "cell_type": "code",
   "execution_count": 145,
   "id": "51216dc4",
   "metadata": {},
   "outputs": [
    {
     "data": {
      "text/plain": [
       "10"
      ]
     },
     "execution_count": 145,
     "metadata": {},
     "output_type": "execute_result"
    }
   ],
   "source": [
    "arr8.min()"
   ]
  },
  {
   "cell_type": "code",
   "execution_count": 147,
   "id": "bc0978f9",
   "metadata": {},
   "outputs": [
    {
     "data": {
      "text/plain": [
       "47"
      ]
     },
     "execution_count": 147,
     "metadata": {},
     "output_type": "execute_result"
    }
   ],
   "source": [
    "arr8.argmax()"
   ]
  },
  {
   "cell_type": "code",
   "execution_count": 148,
   "id": "aae401e6",
   "metadata": {},
   "outputs": [
    {
     "data": {
      "text/plain": [
       "45"
      ]
     },
     "execution_count": 148,
     "metadata": {},
     "output_type": "execute_result"
    }
   ],
   "source": [
    "arr8.argmin()"
   ]
  },
  {
   "cell_type": "markdown",
   "id": "1319a859",
   "metadata": {},
   "source": [
    "## Dot Product"
   ]
  },
  {
   "cell_type": "code",
   "execution_count": 157,
   "id": "5663e17f",
   "metadata": {},
   "outputs": [
    {
     "data": {
      "text/plain": [
       "(array([[13, 17, 15, 19],\n",
       "        [16, 17, 11, 19],\n",
       "        [17, 12, 16, 12]]),\n",
       " array([[16, 11, 19, 15],\n",
       "        [12, 12, 18, 16],\n",
       "        [14, 19, 16, 18]]))"
      ]
     },
     "execution_count": 157,
     "metadata": {},
     "output_type": "execute_result"
    }
   ],
   "source": [
    "arr10=np.random.randint(10,20,(3,4))\n",
    "arr11=np.random.randint(10,20,(3,4))\n",
    "arr12=np.random.randint(10,20,(4,3))\n",
    "arr10, arr11"
   ]
  },
  {
   "cell_type": "code",
   "execution_count": 158,
   "id": "ac74f0c6",
   "metadata": {},
   "outputs": [
    {
     "data": {
      "text/plain": [
       "array([[208, 187, 285, 285],\n",
       "       [192, 204, 198, 304],\n",
       "       [238, 228, 256, 216]])"
      ]
     },
     "execution_count": 158,
     "metadata": {},
     "output_type": "execute_result"
    }
   ],
   "source": [
    "arr10*arr11"
   ]
  },
  {
   "cell_type": "code",
   "execution_count": 159,
   "id": "bb5a2c1a",
   "metadata": {},
   "outputs": [
    {
     "data": {
      "text/plain": [
       "array([[1009, 1012,  902],\n",
       "       [ 987,  988,  895],\n",
       "       [ 834,  920,  799]])"
      ]
     },
     "execution_count": 159,
     "metadata": {},
     "output_type": "execute_result"
    }
   ],
   "source": [
    "np.dot(arr10,arr12)"
   ]
  },
  {
   "cell_type": "code",
   "execution_count": 161,
   "id": "c7d96844",
   "metadata": {},
   "outputs": [
    {
     "data": {
      "text/plain": [
       "(array([[13, 17, 15, 19],\n",
       "        [16, 17, 11, 19],\n",
       "        [17, 12, 16, 12]]),\n",
       " (3, 4))"
      ]
     },
     "execution_count": 161,
     "metadata": {},
     "output_type": "execute_result"
    }
   ],
   "source": [
    "arr10, arr10.shape"
   ]
  },
  {
   "cell_type": "code",
   "execution_count": 162,
   "id": "63b0a850",
   "metadata": {},
   "outputs": [
    {
     "data": {
      "text/plain": [
       "array([[13, 17, 15],\n",
       "       [19, 16, 17],\n",
       "       [11, 19, 17],\n",
       "       [12, 16, 12]])"
      ]
     },
     "execution_count": 162,
     "metadata": {},
     "output_type": "execute_result"
    }
   ],
   "source": [
    "arr10.reshape(4,3)"
   ]
  },
  {
   "cell_type": "markdown",
   "id": "18feb14d",
   "metadata": {},
   "source": [
    "## Transpose Matrix"
   ]
  },
  {
   "cell_type": "code",
   "execution_count": 163,
   "id": "b2a43ddb",
   "metadata": {},
   "outputs": [
    {
     "data": {
      "text/plain": [
       "array([[13, 16, 17],\n",
       "       [17, 17, 12],\n",
       "       [15, 11, 16],\n",
       "       [19, 19, 12]])"
      ]
     },
     "execution_count": 163,
     "metadata": {},
     "output_type": "execute_result"
    }
   ],
   "source": [
    "arr10.T"
   ]
  },
  {
   "cell_type": "code",
   "execution_count": 164,
   "id": "54a8cde7",
   "metadata": {},
   "outputs": [
    {
     "data": {
      "text/plain": [
       "array([[ 965,  934, 1087],\n",
       "       [ 937,  898, 1065],\n",
       "       [ 888,  828,  938]])"
      ]
     },
     "execution_count": 164,
     "metadata": {},
     "output_type": "execute_result"
    }
   ],
   "source": [
    "np.dot(arr10,arr11.T)"
   ]
  },
  {
   "cell_type": "code",
   "execution_count": 166,
   "id": "31283e9e",
   "metadata": {},
   "outputs": [
    {
     "data": {
      "text/plain": [
       "array([[1094,  891, 1003],\n",
       "       [1070,  860, 1004],\n",
       "       [ 968,  779,  907]])"
      ]
     },
     "execution_count": 166,
     "metadata": {},
     "output_type": "execute_result"
    }
   ],
   "source": [
    "np.dot(arr10,np.reshape(arr11,(4,3)))"
   ]
  },
  {
   "cell_type": "code",
   "execution_count": null,
   "id": "d89905d8",
   "metadata": {},
   "outputs": [],
   "source": []
  }
 ],
 "metadata": {
  "kernelspec": {
   "display_name": "Python 3 (ipykernel)",
   "language": "python",
   "name": "python3"
  },
  "language_info": {
   "codemirror_mode": {
    "name": "ipython",
    "version": 3
   },
   "file_extension": ".py",
   "mimetype": "text/x-python",
   "name": "python",
   "nbconvert_exporter": "python",
   "pygments_lexer": "ipython3",
   "version": "3.11.4"
  }
 },
 "nbformat": 4,
 "nbformat_minor": 5
}
